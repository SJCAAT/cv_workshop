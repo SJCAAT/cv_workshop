{
 "cells": [
  {
    "cell_type": "markdown",
    "metadata": {
      "colab_type": "text",
      "id": "view-in-github"
    },
    "source": [
      "\u003ca href=\"https://colab.research.google.com/github/SJCAAT/cv_workshop/blob/main/workshop.ipynb\" target=\"_parent\"\u003e\u003cimg src=\"https://colab.research.google.com/assets/colab-badge.svg\" alt=\"Open In Colab\"/\u003e\u003c/a\u003e\n"
    ]
  },
  {
   "cell_type": "code",
   "execution_count": null,
   "id": "a7631ffd",
   "metadata": {},
   "outputs": [],
   "source": [
    "!pip install ultralytics\n",
    "from ultralytics import YOLO"
   ]
  },
  {
   "cell_type": "code",
   "execution_count": null,
   "id": "11fbcec5",
   "metadata": {},
   "outputs": [],
   "source": [
    "from io import BytesIO\n",
    "from PIL import Image as pil_img\n",
    "from IPython.display import Image, display, Javascript, update_display\n",
    "from google.colab.output import eval_js\n",
    "from base64 import b64decode\n",
    "import numpy as np"
   ]
  },
  {
   "cell_type": "code",
   "execution_count": null,
   "id": "bd9e378e",
   "metadata": {},
   "outputs": [],
   "source": [
    "def take_photo(display_id: str, quality: float = 0.8) -> bytes:\n",
    "    # js snippet to capture frame from webcam\n",
    "    js = Javascript('''\n",
    "        async function takePhoto(quality) {\n",
    "            const div = document.createElement('div')\n",
    "            const video = document.createElement('video')\n",
    "            const stream = await navigator.mediaDevices.getUserMedia({video:true});\n",
    "\n",
    "            div.appendChild(video);\n",
    "            video.srcObject = stream;\n",
    "            await video.play();\n",
    "                    \n",
    "            const canvas = document.createElement('canvas');\n",
    "            canvas.width = video.videoWidth;\n",
    "            canvas.height = video.videoHeight;\n",
    "            canvas.getContext('2d').drawImage(video, 0, 0);\n",
    "            stream.getVideoTracks()[0].stop();\n",
    "            div.remove();\n",
    "            return canvas.toDataURL('image/jpeg', quality);\n",
    "        }\n",
    "    ''')\n",
    "\n",
    "    # evaluate js and retrieve returned binary image\n",
    "    display(js, display_id=display_id)\n",
    "    data = eval_js('takePhoto({})'.format(quality))\n",
    "    binary = b64decode(data.split(',')[1])\n",
    "    return binary"
   ]
  },
  {
   "cell_type": "code",
   "execution_count": null,
   "id": "a864e739",
   "metadata": {},
   "outputs": [],
   "source": [
    "def infer_image(model: YOLO, binary_img: bytes) -> np.array:\n",
    "    # Run inference on a binary image\n",
    "    img = np.array(pil_img.open(BytesIO(binary_img)))\n",
    "    results = model(img, verbose=False)\n",
    "    return results[0].plot(pil=True)"
   ]
  },
  {
   "cell_type": "code",
   "execution_count": null,
   "id": "f8939900",
   "metadata": {},
   "outputs": [],
   "source": [
    "# update the same display\n",
    "display_id = 'sample_display'\n",
    "# load a pretrained yolov8 model\n",
    "model = YOLO('yolov8n')\n",
    "\n",
    "while True:\n",
    "    try:\n",
    "        # read a frame from the webcam\n",
    "        binary_img = take_photo(display_id='sample_display_2')\n",
    "        # run inference on the frame\n",
    "        result = infer_image(model, binary_img=binary_img)\n",
    "\n",
    "        # show the frame with the inference results\n",
    "        display(result, display_id=display_id)\n",
    "    except Exception as err:\n",
    "        # show error if user does not have a webcam or did not grant page permission\n",
    "        print(str(err))"
   ]
  }
 ],
 "metadata": {
  "language_info": {
   "name": "python"
  }
 },
 "nbformat": 4,
 "nbformat_minor": 5
}
